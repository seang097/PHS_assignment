{
 "cells": [
  {
   "cell_type": "markdown",
   "metadata": {},
   "source": [
    "# Analytical Assignment - Sean Gardner\n",
    "\n",
    "This Jupyter notebook contains the answers to the assignment with the R code used. I set myself the challenge of completing this task using R, a language that is new to me, checking my numerical answers using Excel.\n",
    "\n",
    "I am grateful for the following resources in learning how to complete this task using R and tidyverse packages:  \n",
    "www.r-graph-gallery.com  \n",
    "www.r-statistics.co  \n",
    "www.stackoverflow.com  \n",
    "www.tidyverse.org  \n"
   ]
  },
  {
   "cell_type": "code",
   "execution_count": 14,
   "metadata": {
    "scrolled": false
   },
   "outputs": [],
   "source": [
    "suppressMessages(library(tidyverse)) #import the tidyverse packages"
   ]
  },
  {
   "cell_type": "code",
   "execution_count": 15,
   "metadata": {
    "scrolled": true
   },
   "outputs": [
    {
     "name": "stderr",
     "output_type": "stream",
     "text": [
      "Parsed with column specification:\n",
      "cols(\n",
      "  FinancialYear = col_character(),\n",
      "  CA = col_character(),\n",
      "  SIMDQuintile = col_double(),\n",
      "  SIMDQuintileQF = col_character(),\n",
      "  SIMDVersion = col_character(),\n",
      "  AgeGroup = col_character(),\n",
      "  BMIGroup = col_character(),\n",
      "  Maternities = col_double()\n",
      ")\n"
     ]
    }
   ],
   "source": [
    "#Import the Maternal BMI dataset\n",
    "mbmi_dataset = read_csv(\"https://www.opendata.nhs.scot/dataset/df10dbd4-81b3-4bfa-83ac-b14a5ec62296/resource/690818a4-fee9-48c0-86a2-2d2b8d5eb314/download/11.3_bmi.csv\")"
   ]
  },
  {
   "cell_type": "markdown",
   "metadata": {},
   "source": [
    "## Question 1\n",
    "How many healthy BMI maternities were there in the most deprived areas (SIMD Quintile 1) of East Ayrshire council in 2013/14, where the mother was aged 25-34?"
   ]
  },
  {
   "cell_type": "code",
   "execution_count": 16,
   "metadata": {
    "scrolled": true
   },
   "outputs": [
    {
     "name": "stdout",
     "output_type": "stream",
     "text": [
      "The number of healthy maternities is 77"
     ]
    }
   ],
   "source": [
    "#Filter the data to find healthy BMI maternities in East Ayrshire, SIMD-Q1, 2013/14, age 25-34\n",
    "q1 <- filter(mbmi_dataset, FinancialYear == \"2013/14\", BMIGroup == \"Healthy\", SIMDQuintile == 1, AgeGroup == \"25-34\", CA == \"S12000008\")\n",
    "#Print the answer\n",
    "cat(\"The number of healthy maternities is\",colSums(q1[,8]))"
   ]
  },
  {
   "cell_type": "markdown",
   "metadata": {},
   "source": [
    "## Question 2\n",
    "How many healthy BMI maternities were there in NHS Forth Valley in 2018/19?"
   ]
  },
  {
   "cell_type": "code",
   "execution_count": 17,
   "metadata": {},
   "outputs": [
    {
     "name": "stdout",
     "output_type": "stream",
     "text": [
      "The number of healthy maternities is 1184"
     ]
    }
   ],
   "source": [
    "#Filter the data to find healthy BMI maternities in Forth Valley(Clackmannshire,Falkirk,Stirling), 2018/19\n",
    "q2 <- filter(mbmi_dataset, FinancialYear == \"2018/19\", BMIGroup == \"Healthy\", CA %in% c(\"S12000005\", \"S12000014\", \"S12000030\"))\n",
    "#Sum the filtered rows and print the answer\n",
    "cat(\"The number of healthy maternities is\",colSums(q2[,8]))\n"
   ]
  },
  {
   "cell_type": "markdown",
   "metadata": {},
   "source": [
    "## Question 3\n",
    "When was this dataset (Maternal Body Mass Index (BMI) Data) last updated?\n",
    "\n",
    "Answer: 9th April 2020"
   ]
  },
  {
   "cell_type": "markdown",
   "metadata": {},
   "source": [
    "## Question 4\n",
    "What percentage of maternities in Angus council area in 2018/19 had an unknown BMI?"
   ]
  },
  {
   "cell_type": "code",
   "execution_count": 18,
   "metadata": {},
   "outputs": [
    {
     "name": "stdout",
     "output_type": "stream",
     "text": [
      "65.91 %"
     ]
    }
   ],
   "source": [
    "#Filter for the total\n",
    "angus_total <- filter(mbmi_dataset, FinancialYear == \"2018/19\", CA == \"S12000041\")\n",
    "#Filter for the Unknown\n",
    "angus_unknown_bmi <- filter(mbmi_dataset, FinancialYear == \"2018/19\", CA == \"S12000041\", BMIGroup == \"Unknown\")\n",
    "#Calculate the proportion\n",
    "angus_proportion <- colSums (angus_unknown_bmi[,8])/colSums (angus_total[,8])\n",
    "#Find percentage and print answer\n",
    "cat(round((angus_proportion*100),digits=2),\"%\")"
   ]
  },
  {
   "cell_type": "markdown",
   "metadata": {},
   "source": [
    "## Question 5\n",
    "In West Lothian council area in 2010/11, what percentage of maternities for women aged 35 and over did not have a healthy BMI? "
   ]
  },
  {
   "cell_type": "code",
   "execution_count": 19,
   "metadata": {
    "scrolled": true
   },
   "outputs": [
    {
     "name": "stdout",
     "output_type": "stream",
     "text": [
      "58.7 %"
     ]
    }
   ],
   "source": [
    "# Filter for total, excluding rows with Unknown BMI\n",
    "wlothian_total <- filter(mbmi_dataset, FinancialYear == \"2010/11\", CA == \"S12000040\", AgeGroup == \"35 and over\", BMIGroup != \"Unknown\")\n",
    "# Filter for BMI that is not Healthy or Unknown\n",
    "wlothian_not_healthy <- filter(mbmi_dataset, FinancialYear == \"2010/11\", CA == \"S12000040\", AgeGroup == \"35 and over\", BMIGroup != \"Unknown\", BMIGroup != \"Healthy\")\n",
    "#Calculate the proportion\n",
    "wlothian_proportion <- colSums (wlothian_not_healthy[,8])/colSums (wlothian_total[,8])\n",
    "#Find percentage and print answer\n",
    "cat(round((wlothian_proportion*100),digits=2),\"%\")"
   ]
  },
  {
   "cell_type": "markdown",
   "metadata": {},
   "source": [
    "## Question 6\n",
    "Please chart the percentage of maternities with a healthy BMI, by age group, in Glasgow City Council area in 2018/19. "
   ]
  },
  {
   "cell_type": "code",
   "execution_count": 20,
   "metadata": {
    "scrolled": true
   },
   "outputs": [
    {
     "data": {
      "image/png": "[encoded data removed]",
      "text/plain": [
       "plot without title"
      ]
     },
     "metadata": {},
     "output_type": "display_data"
    }
   ],
   "source": [
    "#Filter for total and healthy maternities for each age group\n",
    "u25_total <- filter(mbmi_dataset, FinancialYear == \"2018/19\", CA == \"S12000049\", AgeGroup == \"Under 25\", BMIGroup != \"Unknown\")\n",
    "u25_healthy <- filter(mbmi_dataset, FinancialYear == \"2018/19\", AgeGroup == \"Under 25\", CA == \"S12000049\", BMIGroup != \"Unknown\", BMIGroup == \"Healthy\")\n",
    "\n",
    "mid_total <- filter(mbmi_dataset, FinancialYear == \"2018/19\", CA == \"S12000049\", AgeGroup == \"25-34\", BMIGroup != \"Unknown\")\n",
    "mid_healthy <- filter(mbmi_dataset, FinancialYear == \"2018/19\", AgeGroup == \"25-34\", CA == \"S12000049\", BMIGroup != \"Unknown\", BMIGroup == \"Healthy\")\n",
    "\n",
    "o34_total <- filter(mbmi_dataset, FinancialYear == \"2018/19\", CA == \"S12000049\", AgeGroup == \"35 and over\", BMIGroup != \"Unknown\")\n",
    "o34_healthy <- filter(mbmi_dataset, FinancialYear == \"2018/19\", AgeGroup == \"35 and over\", CA == \"S12000049\", BMIGroup != \"Unknown\", BMIGroup == \"Healthy\")\n",
    "\n",
    "#Calculate proportion of healthy BMI for each age group\n",
    "u25_prop <- colSums (u25_healthy[,8])/colSums (u25_total[,8])\n",
    "mid_prop <- colSums (mid_healthy[,8])/colSums (mid_total[,8])\n",
    "o34_prop <- colSums (o34_healthy[,8])/colSums (o34_total[,8])\n",
    "\n",
    "#Construct a dataframe for plotting\n",
    "ages <- c(\"Under 25\",\"25-34\",\"35 and over\")\n",
    "values <- c(u25_prop,mid_prop,o34_prop)\n",
    "to_plot <- data.frame(ages,values)\n",
    "\n",
    "\n",
    "#Plot a bar chart\n",
    "p <- ggplot(data = to_plot, aes(x=reorder(ages, -values), y=values, fill = values)) +\n",
    "  geom_bar(stat=\"identity\",width = 0.5) +\n",
    "xlab(\"Age Group\") +\n",
    "ylab(\"Percentage of healthy BMI maternities \") +\n",
    "ggtitle(\"Healthy BMI Maternities, by age group. Glasgow City Council, 2018/19\") +\n",
    "guides(fill=FALSE)\n",
    "p"
   ]
  },
  {
   "cell_type": "markdown",
   "metadata": {},
   "source": [
    "## Question 7\n",
    "Did the total number of maternities in Scotland (as recorded in this dataset) increase or decrease between 2017/18 and 2018/19? What was the percentage change? "
   ]
  },
  {
   "cell_type": "code",
   "execution_count": 21,
   "metadata": {},
   "outputs": [
    {
     "name": "stdout",
     "output_type": "stream",
     "text": [
      "Total maternities in 2017-18: 51304\n",
      "Total maternities in 2018-19: 49783\n",
      "This is a 2.96 % decrease."
     ]
    }
   ],
   "source": [
    "#Find the total maternities in the two years\n",
    "total_2017_18 <- filter(mbmi_dataset, FinancialYear == \"2017/18\")\n",
    "total_2018_19 <- filter(mbmi_dataset, FinancialYear == \"2018/19\")\n",
    "mats_in_2017_18 <- colSums (total_2017_18[,8])\n",
    "mats_in_2018_19 <- colSums (total_2018_19[,8])\n",
    "\n",
    "cat(\"Total maternities in 2017-18:\", mats_in_2017_18)\n",
    "cat(\"\\nTotal maternities in 2018-19:\", mats_in_2018_19)\n",
    "\n",
    "# Calculate percentage change\n",
    "pc_change = abs(round(((mats_in_2018_19 - mats_in_2017_18)/mats_in_2017_18 * 100),digits = 2))\n",
    "cat(\"\\nThis is a\", pc_change, \"% decrease.\")"
   ]
  },
  {
   "cell_type": "markdown",
   "metadata": {},
   "source": [
    "## Question 8\n",
    "Focussing on 2018/19 data, give some observations on the differences in maternal BMI by deprivation (SIMD Quintile) and age group. Why is it important for NHS Scotland to monitor the BMI of expectant mothers? "
   ]
  },
  {
   "cell_type": "code",
   "execution_count": 22,
   "metadata": {
    "scrolled": false
   },
   "outputs": [
    {
     "data": {
      "image/png": "[encoded data removed]",
      "text/plain": [
       "plot without title"
      ]
     },
     "metadata": {},
     "output_type": "display_data"
    },
    {
     "data": {
      "image/png": "[encoded data removed]",
      "text/plain": [
       "plot without title"
      ]
     },
     "metadata": {},
     "output_type": "display_data"
    }
   ],
   "source": [
    "#Filter for relevent data\n",
    "by_age <- filter(mbmi_dataset, FinancialYear == \"2018/19\", BMIGroup != \"Unknown\") %>% # use pipes (%>%)\n",
    "group_by(AgeGroup,BMIGroup)%>% #group by BMI within age groups\n",
    "summarise(Maternities = sum(Maternities))%>% # summerise the number of maternities for each sub-group\n",
    "#Add a percentage column, showing %age of each BMI within each age group\n",
    "mutate(percent = round(100*Maternities/sum(Maternities),digits = 2)) \n",
    "\n",
    "# put groups into a sensible order\n",
    "by_age$AgeGroup <- factor(by_age$AgeGroup,levels = c(\"Under 25\", \"25-34\", \"35 and over\"))\n",
    "by_age$BMIGroup <- factor(by_age$BMIGroup,levels = c(\"Obese\",\"Overweight\",\"Healthy\",\"Underweight\"))\n",
    "\n",
    "#plot stacked bar chart of the percentages.\n",
    "ggplot(by_age, aes(fill=BMIGroup, y=percent, x=AgeGroup)) +\n",
    "geom_bar(position=\"stack\", stat=\"identity\") + \n",
    "geom_text(aes(x = AgeGroup, y = percent, label = paste0(percent,\"%\")), size=3, position = position_stack(vjust = 0.5)) +\n",
    "labs(title = \"Makeup of maternal BMI by age group, 2018-19\",\n",
    "    x = \"Age Group\",\n",
    "    y = \"Percentage of maternitites\",\n",
    "    fill = \"BMI Group\") +\n",
    "scale_fill_manual(values = c(\"coral\",\"blue2\",\"green4\", \"purple\"))\n",
    "\n",
    "# Repeat for SIMD Quartile comparison\n",
    "by_SIMD <- filter(mbmi_dataset, FinancialYear == \"2018/19\", BMIGroup != \"Unknown\", SIMDQuintile !=\"NA\") %>%\n",
    "group_by(SIMDQuintile,BMIGroup)%>%\n",
    "summarise(Maternities = sum(Maternities))%>%\n",
    "mutate(percent1 = round(100*Maternities/sum(Maternities),digits = 2))\n",
    "\n",
    "by_SIMD$SIMDQuintile <- factor(by_SIMD$SIMDQuintile,levels = c(\"1\", \"2\", \"3\", \"4\", \"5\"))\n",
    "by_SIMD$BMIGroup <- factor(by_SIMD$BMIGroup,levels = c(\"Obese\",\"Overweight\",\"Healthy\",\"Underweight\"))\n",
    "\n",
    "ggplot(by_SIMD, aes(fill=BMIGroup, y=percent1, x=SIMDQuintile)) +\n",
    "geom_bar(position=\"stack\", stat=\"identity\") + \n",
    "geom_text(aes(x = SIMDQuintile, y = percent1, label = paste0(percent1,\"%\")), \n",
    "          size=3, position = position_stack(vjust = 0.5)) + \n",
    "labs(title = \"Makeup of maternal BMI by SIMD Quintile, 2018-19\",\n",
    "    x = \"SIMD Quintile\",\n",
    "    y = \"Percentage of maternitites\",\n",
    "    fill = \"BMI Group\") +\n",
    "scale_fill_manual(values = c(\"coral\",\"blue2\",\"green4\", \"purple\"))"
   ]
  },
  {
   "cell_type": "markdown",
   "metadata": {},
   "source": [
    "Underweight maternities are most common in the Under 25 age group, and least common in the ‘35 and over’ age group. In contrast, the proportion of overweight maternities was higher in the older age groups. The proportion of obese maternities showed little variance between age groups.\n",
    "\n",
    "The proportion of healthy BMI maternities increases as deprivation decreases, with an increase of more than 14% from SIMD-Q1 (most deprived) to SIMD-Q5 (least deprived). The percentage of obese maternities decreases in this direction. \n",
    "\n",
    "Unhealthy maternal BMI is associated with pregnancy complications, as well as adverse effects on children’s long-term health, and economic consequences for the health service. Monitoring maternal BMI allows NHS Scotland to target health improvement activities towards those at highest risk, and evaluate the effect of weight loss interventions at a population level.\n"
   ]
  }
 ],
 "metadata": {
  "kernelspec": {
   "display_name": "R",
   "language": "R",
   "name": "ir"
  },
  "language_info": {
   "codemirror_mode": "r",
   "file_extension": ".r",
   "mimetype": "text/x-r-source",
   "name": "R",
   "pygments_lexer": "r",
   "version": "3.6.1"
  }
 },
 "nbformat": 4,
 "nbformat_minor": 4
}
